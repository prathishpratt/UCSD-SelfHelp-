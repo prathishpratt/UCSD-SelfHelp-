{
 "cells": [
  {
   "cell_type": "markdown",
   "id": "bc392971",
   "metadata": {},
   "source": [
    "### Filter/Map function and Lambda \n",
    "The filter() method filters the given sequence with the help of a function that tests each element in the sequence to be true or not. \n",
    "\n",
    "It returns a map object after applything the function on the iterator, so we need to use list()\n"
   ]
  },
  {
   "cell_type": "code",
   "execution_count": 13,
   "id": "27440d2e",
   "metadata": {},
   "outputs": [
    {
     "name": "stdout",
     "output_type": "stream",
     "text": [
      "<filter object at 0x7f1aec422310>\n"
     ]
    }
   ],
   "source": [
    "def is_even(s):\n",
    "    return len(s) % 2 == 0\n",
    "\n",
    "result = filter(is_even, [\"I\", \"am\", \"so\", \"cool\"])\n",
    "print (result)"
   ]
  },
  {
   "cell_type": "code",
   "execution_count": 3,
   "id": "e3103acb",
   "metadata": {},
   "outputs": [
    {
     "name": "stdout",
     "output_type": "stream",
     "text": [
      "['am', 'so', 'cool']\n"
     ]
    }
   ],
   "source": [
    "print (list(result))"
   ]
  },
  {
   "cell_type": "code",
   "execution_count": 6,
   "id": "23d6754e",
   "metadata": {},
   "outputs": [
    {
     "data": {
      "text/plain": [
       "['am', 'so', 'cool']"
      ]
     },
     "execution_count": 6,
     "metadata": {},
     "output_type": "execute_result"
    }
   ],
   "source": [
    "#Using lambda\n",
    "list(filter(lambda s: len(s) % 2 == 0, [\"I\", \"am\", \"so\", \"cool\"]))"
   ]
  },
  {
   "cell_type": "markdown",
   "id": "f73bab7c",
   "metadata": {},
   "source": [
    "### List Comprehension"
   ]
  },
  {
   "cell_type": "code",
   "execution_count": 5,
   "id": "a9aeae96",
   "metadata": {},
   "outputs": [
    {
     "name": "stdout",
     "output_type": "stream",
     "text": [
      "[2, 4, 6, 8, 10, 12, 14]\n"
     ]
    }
   ],
   "source": [
    "#Write a function question that returns a list of even numbers between the range (x,y) given in arguments. \n",
    "#(Use list comprehension)\n",
    "#Ex: × = 2, y= 7\n",
    "#Ans: [2,4,6]\n",
    "\n",
    "def even_num(x, y):\n",
    "    return [num for num in range(x, y) if num % 2 == 0]\n",
    "\n",
    "print(even_num(1, 16))"
   ]
  },
  {
   "cell_type": "markdown",
   "id": "d3e549da",
   "metadata": {},
   "source": [
    "### ZIP function\n",
    "Returns a iterator object, so you need to wrap it with what you want like a {} or set() or []"
   ]
  },
  {
   "cell_type": "code",
   "execution_count": 11,
   "id": "a4c37e03",
   "metadata": {},
   "outputs": [
    {
     "name": "stdout",
     "output_type": "stream",
     "text": [
      "{'red': (255, 0, 0), 'blue': (0, 0, 255), 'green': (0, 255, 0)}\n"
     ]
    }
   ],
   "source": [
    "color_keys = [\"red\", \"blue\", \"green\"]\n",
    "color_values = [(255, 0, 0), (0, 0, 255), (0, 255, 0)]\n",
    "\n",
    "color_dict = {key: val for key, val in zip(color_keys, color_values)}\n",
    "print( color_dict)"
   ]
  },
  {
   "cell_type": "code",
   "execution_count": 12,
   "id": "7dd2db94",
   "metadata": {},
   "outputs": [
    {
     "data": {
      "text/plain": [
       "<zip at 0x7f1aec3c3900>"
      ]
     },
     "execution_count": 12,
     "metadata": {},
     "output_type": "execute_result"
    }
   ],
   "source": [
    "name = [ \"Manjeet\", \"Nikhil\", \"Shambhavi\", \"Astha\" ]\n",
    "roll_no = [ 4, 1, 3, 2 ]\n",
    " \n",
    "# using zip() to map values\n",
    "mapped = zip(name, roll_no)\n",
    "mapped"
   ]
  },
  {
   "cell_type": "markdown",
   "id": "d6c12671",
   "metadata": {},
   "source": [
    "## Regular Expressions \n",
    "\n",
    "#### Search() \n",
    "re.search() will take the pattern and if no pattern is found, a None is returned. If found, then a Match object returned by the search() method is more than just a Boolean or None, it contains information about the match, including the original input string, the regular expression that was used, and the location of the match."
   ]
  },
  {
   "cell_type": "code",
   "execution_count": 15,
   "id": "cd5b846e",
   "metadata": {},
   "outputs": [
    {
     "data": {
      "text/plain": [
       "<re.Match object; span=(22, 27), match='term1'>"
      ]
     },
     "execution_count": 15,
     "metadata": {},
     "output_type": "execute_result"
    }
   ],
   "source": [
    "import re\n",
    "pattern = 'term1'\n",
    "\n",
    "text = 'This is a string with term1, but it does not have the other term.'\n",
    "\n",
    "match = re.search(pattern,  text)\n",
    "match"
   ]
  },
  {
   "cell_type": "code",
   "execution_count": 19,
   "id": "bdd04f08",
   "metadata": {},
   "outputs": [
    {
     "data": {
      "text/plain": [
       "27"
      ]
     },
     "execution_count": 19,
     "metadata": {},
     "output_type": "execute_result"
    }
   ],
   "source": [
    "# Index of start of match\n",
    "match.start()\n",
    "\n",
    "# Index of the end\n",
    "match.end()"
   ]
  },
  {
   "cell_type": "markdown",
   "id": "16fae378",
   "metadata": {},
   "source": [
    "#### Split()\n",
    "Returns a List."
   ]
  },
  {
   "cell_type": "code",
   "execution_count": 20,
   "id": "b2fd7a07",
   "metadata": {},
   "outputs": [
    {
     "data": {
      "text/plain": [
       "['What is the domain name of someone with the email: hello', 'gmail.com']"
      ]
     },
     "execution_count": 20,
     "metadata": {},
     "output_type": "execute_result"
    }
   ],
   "source": [
    "# Term to split on\n",
    "split_term = '@'\n",
    "\n",
    "phrase = 'What is the domain name of someone with the email: hello@gmail.com'\n",
    "\n",
    "# Split the phrase\n",
    "re.split(split_term, phrase)"
   ]
  },
  {
   "cell_type": "markdown",
   "id": "7dff395d",
   "metadata": {},
   "source": [
    "#### Findall()\n",
    "find all the instances of a pattern in a string"
   ]
  },
  {
   "cell_type": "code",
   "execution_count": 21,
   "id": "72bf1bce",
   "metadata": {},
   "outputs": [
    {
     "data": {
      "text/plain": [
       "['e', 'e', 'e']"
      ]
     },
     "execution_count": 21,
     "metadata": {},
     "output_type": "execute_result"
    }
   ],
   "source": [
    "# Returns a list of all matches \n",
    "re.findall('e','test phrase match is in middle')"
   ]
  },
  {
   "cell_type": "markdown",
   "id": "7298d730",
   "metadata": {},
   "source": [
    "### Wildcards\n",
    "This has [Cheatsheet](https://cheatography.com/davechild/cheat-sheets/regular-expressions/)\n",
    "\n",
    "| Exp      | Meaning |\n",
    "| -------- | ------- |\n",
    "| *  | 0 or more    |\n",
    "| +  | 1 or more     |\n",
    "| ?  | 0 or 1    |\n",
    "| {3}  | Exactly 3 |\n",
    "| {3,}  |  3 or more |\n",
    "| {3,5}  |  3, 4 or 5 |\n",
    "\n",
    "\n",
    "\n",
    "| Syntax     | Description                      |\n",
    "|------------|----------------------------------|\n",
    "| (a\\|b)     | a or b                           |\n",
    "| (...)      | Group                            |\n",
    "| (?:...)    | Passive (non-capturing) group    |\n",
    "| [abc]      | Range (a or b or c)              |\n",
    "| [^abc]     | Not (a or b or c)                |\n",
    "| [a-q]      | Lower case letter from a to q    |\n",
    "| [A-Q]      | Upper case letter from A to Q    |\n",
    "| [0-7]      | Digit from 0 to 7                |\n",
    "| \\x         | Group/subpattern number \"x\"      |\n",
    "\n",
    "\n",
    "| Code | Meaning                              |\n",
    "|------|--------------------------------------|\n",
    "| \\d   | a digit                              |\n",
    "| \\D   | a non-digit                          |\n",
    "| \\s   | whitespace (tab, space, newline, etc.) |\n",
    "| \\S   | non-whitespace                       |\n",
    "| \\w   | alphanumeric                         |\n",
    "| \\W   | non-alphanumeric                     |\n"
   ]
  },
  {
   "cell_type": "code",
   "execution_count": 23,
   "id": "eb785783",
   "metadata": {},
   "outputs": [
    {
     "name": "stdout",
     "output_type": "stream",
     "text": [
      "['sd', 'sd', 's', 's', 'sddd', 'sddd', 'sddd', 'sd', 's', 's', 's', 's', 's', 's', 'sdddd']\n"
     ]
    }
   ],
   "source": [
    "# * pattern\n",
    "test_phrase = 'sdsd..sssddd...sdddsddd...dsds...dsssss...sdddd'\n",
    "\n",
    "print(re.findall('sd*', # s followed by zero or more d's\n",
    "                 test_phrase)) "
   ]
  },
  {
   "cell_type": "code",
   "execution_count": 24,
   "id": "1bc069d1",
   "metadata": {},
   "outputs": [
    {
     "name": "stdout",
     "output_type": "stream",
     "text": [
      "['sd', 'sd', 'sddd', 'sddd', 'sddd', 'sd', 'sdddd']\n"
     ]
    }
   ],
   "source": [
    "# + pattern\n",
    "test_phrase = 'sdsd..sssddd...sdddsddd...dsds...dsssss...sdddd'\n",
    "\n",
    "print(re.findall('sd+', # s followed by one or more d's\n",
    "                 test_phrase))"
   ]
  },
  {
   "cell_type": "code",
   "execution_count": 25,
   "id": "9e2e9a54",
   "metadata": {},
   "outputs": [
    {
     "name": "stdout",
     "output_type": "stream",
     "text": [
      "['sd', 'sd', 's', 's', 'sd', 'sd', 'sd', 'sd', 's', 's', 's', 's', 's', 's', 'sd']\n"
     ]
    }
   ],
   "source": [
    "# ? pattern\n",
    "test_phrase = 'sdsd..sssddd...sdddsddd...dsds...dsssss...sdddd'\n",
    "\n",
    "print(re.findall('sd?', # s followed by one or more d's\n",
    "                 test_phrase))"
   ]
  },
  {
   "cell_type": "code",
   "execution_count": 30,
   "id": "49488c18",
   "metadata": {},
   "outputs": [
    {
     "name": "stdout",
     "output_type": "stream",
     "text": [
      "['sddd', 'sddd', 'sddd', 'sddd']\n"
     ]
    }
   ],
   "source": [
    "# {3} pattern\n",
    "test_phrase = 'sdsd..sssddd...sdddsddd...dsds...dsssss...sdddd'\n",
    "\n",
    "print(re.findall('sd{3}', # s followed by one or more d's\n",
    "                 test_phrase))"
   ]
  },
  {
   "cell_type": "code",
   "execution_count": 35,
   "id": "8f102c3d",
   "metadata": {},
   "outputs": [
    {
     "name": "stdout",
     "output_type": "stream",
     "text": [
      "['s', 'd', 's', 'd', 's', 's', 's', 'd', 'd', 'd', 's', 'd', 'd', 'd', 's', 'd', 'd', 'd', 'd', 's', 'd', 's', 'd', 's', 's', 's', 's', 's', 's', 'd', 'd', 'd', 'd']\n"
     ]
    }
   ],
   "source": [
    "test_phrase = 'sdsd..sssddd...sdddsddd...dsds...dsssss...sdddd'\n",
    "\n",
    "print(re.findall('[sd]',        # either s or d\n",
    "                 test_phrase)) "
   ]
  },
  {
   "cell_type": "code",
   "execution_count": 37,
   "id": "8431df0b",
   "metadata": {},
   "outputs": [
    {
     "name": "stdout",
     "output_type": "stream",
     "text": [
      "['s...', 's...']\n"
     ]
    }
   ],
   "source": [
    "test_phrase = 'sdsd..sssddd...sdddsddd...dsds...dsssss...sdddd'\n",
    "\n",
    "print(re.findall('s[^sd]+',        # s followed by not one or more s or d\n",
    "                 test_phrase)) "
   ]
  },
  {
   "cell_type": "code",
   "execution_count": 39,
   "id": "50476226",
   "metadata": {},
   "outputs": [
    {
     "name": "stdout",
     "output_type": "stream",
     "text": [
      "['This', 'is', 'a', 'string', 'But', 'it', 'has', 'punctuation', 'How', 'can', 'we', 'remove', 'it']\n"
     ]
    }
   ],
   "source": [
    "#Remove Punctuations\n",
    "\n",
    "test_phrase = 'This is a string! But it has punctuation. How can we remove it?'\n",
    "print(re.findall('[^!.? ]+',test_phrase))"
   ]
  },
  {
   "cell_type": "code",
   "execution_count": 40,
   "id": "a68001b7",
   "metadata": {},
   "outputs": [
    {
     "name": "stdout",
     "output_type": "stream",
     "text": [
      "['This', 'is', 'an', 'example', 'sentence', 'Lets', 'see', 'if', 'we', 'can', 'find', 'some', 'letters']\n"
     ]
    }
   ],
   "source": [
    "test_phrase = 'This is an example sentence. Lets see if we can find some letters.'\n",
    "\n",
    "print(re.findall('[a-zA-Z]+',   # sequences of lower or upper case letters\n",
    "                 test_phrase)) "
   ]
  },
  {
   "cell_type": "code",
   "execution_count": 41,
   "id": "6201022b",
   "metadata": {},
   "outputs": [
    {
     "name": "stdout",
     "output_type": "stream",
     "text": [
      "['This', 'Lets']\n"
     ]
    }
   ],
   "source": [
    "test_phrase = 'This is an example sentence. Lets see if we can find some letters.'\n",
    "\n",
    "print(re.findall('[A-Z][a-z]+',  # one upper case letter followed by lower case letters\n",
    "                 test_phrase)) "
   ]
  },
  {
   "cell_type": "code",
   "execution_count": 45,
   "id": "37ef85e3",
   "metadata": {},
   "outputs": [
    {
     "name": "stdout",
     "output_type": "stream",
     "text": [
      "['1233', '5']\n"
     ]
    }
   ],
   "source": [
    "# sequence of digits\n",
    "test_phrase = 'This is a string with some numbers 1233 5 and a symbol #hashtag'\n",
    "\n",
    "print(re.findall(r'\\d+', # sequence of digits\n",
    "                 test_phrase)) "
   ]
  },
  {
   "cell_type": "code",
   "execution_count": 52,
   "id": "54cdbb9d",
   "metadata": {},
   "outputs": [
    {
     "name": "stdout",
     "output_type": "stream",
     "text": [
      "[' ', ' ', ' ', ' ', ' ', ' ', ' ', ' ', ' ', ' ', ' #']\n"
     ]
    }
   ],
   "source": [
    "test_phrase = 'This is a string with some numbers 1233 and a symbol #hashtag'\n",
    "\n",
    "print(re.findall(r'\\W+', # Not alphanumeric characters\n",
    "                 test_phrase)) "
   ]
  },
  {
   "cell_type": "code",
   "execution_count": 56,
   "id": "ecef7e10",
   "metadata": {},
   "outputs": [
    {
     "name": "stdout",
     "output_type": "stream",
     "text": [
      "['123-45-6789', '987-65-4321']\n"
     ]
    }
   ],
   "source": [
    "# SSN Pattern\n",
    "text = \"The Social Security Number is 123-45-6789 and another one is 987-65-4321 not 987 -65-4321.\"\n",
    "\n",
    "ssn_pattern = r\"\\b\\d{3}-\\d{2}-\\d{4}\\b\"  #\\b is the strict boundary \n",
    "print(re.findall(ssn_pattern, text))"
   ]
  },
  {
   "cell_type": "markdown",
   "id": "acc6a73b",
   "metadata": {},
   "source": [
    "## NumPy\n"
   ]
  },
  {
   "cell_type": "code",
   "execution_count": 2,
   "id": "918c434c",
   "metadata": {},
   "outputs": [
    {
     "name": "stdout",
     "output_type": "stream",
     "text": [
      "Data type                : int64\n",
      "Total number of elements : 4\n",
      "Number of dimensions     : 1\n",
      "Shape (dimensionality)   : (4,)\n",
      "Memory used (in bytes)   : 32\n",
      "Minimum and maximum             : 10 40\n",
      "Sum and product of all elements : 100 240000\n",
      "Mean and standard deviation     : 25.0 11.180339887498949\n"
     ]
    }
   ],
   "source": [
    "#Useful functions\n",
    "\n",
    "import numpy as np\n",
    "arr = np.array([10, 20, 30, 40])\n",
    "print('Data type                :', arr.dtype)\n",
    "print('Total number of elements :', arr.size)\n",
    "print('Number of dimensions     :', arr.ndim)\n",
    "print('Shape (dimensionality)   :', arr.shape)\n",
    "print('Memory used (in bytes)   :', arr.nbytes)\n",
    "print('Minimum and maximum             :', arr.min(), arr.max())\n",
    "print('Sum and product of all elements :', arr.sum(), arr.prod())\n",
    "print('Mean and standard deviation     :', arr.mean(), arr.std())"
   ]
  },
  {
   "cell_type": "markdown",
   "id": "e4b3caf3",
   "metadata": {},
   "source": [
    "### Operating with arrays\n",
    "\n",
    "All operations with arrays are applied *element-wise* unlike lists, i.e., are applied to all the elements of the array at the same time."
   ]
  },
  {
   "cell_type": "code",
   "execution_count": 34,
   "id": "05a434df",
   "metadata": {},
   "outputs": [
    {
     "name": "stdout",
     "output_type": "stream",
     "text": [
      "[0 1 2 3] + [10 11 12 13] = [10 12 14 16]\n",
      "[0, 1, 2, 3] + [10, 11, 12, 13] = [0, 1, 2, 3, 10, 11, 12, 13]\n"
     ]
    }
   ],
   "source": [
    "arr1 = np.arange(4)\n",
    "arr2 = np.arange(10, 14)\n",
    "lst1 = [0, 1, 2, 3]\n",
    "lst2 = [10, 11, 12, 13]\n",
    "print(arr1, '+', arr2, '=', arr1 + arr2)\n",
    "print(lst1, '+', lst2, '=', lst1 + lst2)"
   ]
  },
  {
   "cell_type": "markdown",
   "id": "13bdeb94",
   "metadata": {},
   "source": [
    "![broadcasting](https://www.astroml.org/_images/fig_broadcast_visual_1.png)"
   ]
  },
  {
   "cell_type": "code",
   "execution_count": 5,
   "id": "a619a196",
   "metadata": {},
   "outputs": [
    {
     "name": "stdout",
     "output_type": "stream",
     "text": [
      "For the following array:\n",
      " [[0 1 2]\n",
      " [3 4 5]]\n",
      "The sum of elements along the rows is    : [ 3 12]\n",
      "The sum of elements along the columns is : [3 5 7]\n"
     ]
    }
   ],
   "source": [
    "#Sum of axis and -1\n",
    "arr = np.arange(6).reshape((2, -1))  #-1 Means based on the other axis fix this axis, so 6/2 = 3\n",
    "print('For the following array:\\n', arr)\n",
    "print('The sum of elements along the rows is    :', arr.sum(axis=1))\n",
    "print('The sum of elements along the columns is :', arr.sum(axis=0))"
   ]
  },
  {
   "cell_type": "code",
   "execution_count": 6,
   "id": "52a34fe9",
   "metadata": {},
   "outputs": [
    {
     "name": "stdout",
     "output_type": "stream",
     "text": [
      "Array:\n",
      " [[0 1 2]\n",
      " [3 4 5]]\n",
      "Transpose:\n",
      " [[0 3]\n",
      " [1 4]\n",
      " [2 5]]\n"
     ]
    }
   ],
   "source": [
    "#Transpose\n",
    "print('Array:\\n', arr)\n",
    "print('Transpose:\\n', arr.T)"
   ]
  },
  {
   "cell_type": "code",
   "execution_count": 7,
   "id": "7b643665",
   "metadata": {},
   "outputs": [
    {
     "name": "stdout",
     "output_type": "stream",
     "text": [
      "[[0 1 2]\n",
      " [3 4 5]] \n",
      "\n",
      "[[ 9 12 15]\n",
      " [12 17 22]\n",
      " [15 22 29]]\n"
     ]
    }
   ],
   "source": [
    "#Dot Product\n",
    "A = np.arange(6).reshape(2, 3)\n",
    "print(A, '\\n')\n",
    "print(np.dot(A.T, A))"
   ]
  },
  {
   "cell_type": "code",
   "execution_count": 8,
   "id": "7ed3e4ac",
   "metadata": {},
   "outputs": [
    {
     "data": {
      "image/png": "[encoded data removed]",
      "text/plain": [
       "<Figure size 576x432 with 2 Axes>"
      ]
     },
     "metadata": {
      "needs_background": "light"
     },
     "output_type": "display_data"
    }
   ],
   "source": [
    "#Contour Plot and meshgrid\n",
    "import numpy as np\n",
    "import matplotlib.pyplot as plt\n",
    "\n",
    "# Step 1: Generate a grid of 2D points using np.meshgrid\n",
    "x = np.linspace(-3, 3, 100)  # Generate 1D array for x-coordinate\n",
    "y = np.linspace(-3, 3, 100)  # Generate 1D array for y-coordinate\n",
    "X, Y = np.meshgrid(x, y)     # Create a 2D grid of (X, Y) points\n",
    "\n",
    "# Step 2: Define the mathematical function z in terms of x and y\n",
    "# Calculate z using the given function\n",
    "z = np.sin(X**2 + Y**2) / (X**2 + Y**2)\n",
    "\n",
    "# Step 4: Create a contour plot of the function z\n",
    "plt.figure(figsize=(8, 6))\n",
    "contour = plt.contour(X, Y, z, cmap='jet')\n",
    "plt.clabel(contour, inline=True, fontsize=8)\n",
    "\n",
    "# Label the axes and add a color bar\n",
    "plt.xlabel('X')\n",
    "plt.ylabel('Y')\n",
    "plt.colorbar()\n",
    "\n",
    "# Display the plot\n",
    "plt.title('Contour Plot of z = sin(x^2 + y^2) / (x^2 + y^2)')\n",
    "plt.show()"
   ]
  },
  {
   "cell_type": "markdown",
   "id": "3e780414",
   "metadata": {},
   "source": [
    "## MatplotLib"
   ]
  },
  {
   "cell_type": "markdown",
   "id": "ee26b624",
   "metadata": {},
   "source": [
    "http://matplotlib.org/api/pyplot_summary.html <br />\n",
    "http://matplotlib.org/api/pyplot_api.html#matplotlib.pyplot.plot<br />\n",
    "http://matplotlib.org/api/axes_api.html?#matplotlib.axes.Axes.plot<br />\n",
    "<br />\n",
    "<br />\n",
    "To change the axis limits use set_xlim and set_ylim methods."
   ]
  },
  {
   "cell_type": "code",
   "execution_count": 3,
   "id": "14687488",
   "metadata": {},
   "outputs": [
    {
     "data": {
      "image/png": "[encoded data removed]",
      "text/plain": [
       "<Figure size 432x288 with 1 Axes>"
      ]
     },
     "metadata": {
      "needs_background": "light"
     },
     "output_type": "display_data"
    }
   ],
   "source": [
    "import matplotlib.pyplot as plt\n",
    "ax = plt.axes()\n",
    "line1, = ax.plot([0, 1, 2, 1.5], [3, 1, 2, 4])\n",
    "plt.show()"
   ]
  },
  {
   "cell_type": "code",
   "execution_count": 6,
   "id": "599c240b",
   "metadata": {},
   "outputs": [
    {
     "data": {
      "image/png": "[encoded data removed]",
      "text/plain": [
       "<Figure size 432x288 with 1 Axes>"
      ]
     },
     "metadata": {
      "needs_background": "light"
     },
     "output_type": "display_data"
    }
   ],
   "source": [
    "#1. Manually set the x and y limits to [0.5, 2] and [1, 5] respectively.\n",
    "ax = plt.axes()\n",
    "ax.set_xlim(left=0.5, right=2)\n",
    "ax.set_ylim(bottom=1 ,top=5)\n",
    "line1, = ax.plot([0, 1, 2, 1.5], [3, 1, 2, 4])\n",
    "plt.show()"
   ]
  },
  {
   "cell_type": "code",
   "execution_count": 11,
   "id": "482acd3b",
   "metadata": {},
   "outputs": [
    {
     "data": {
      "image/png": "[encoded data removed]",
      "text/plain": [
       "<Figure size 432x288 with 1 Axes>"
      ]
     },
     "metadata": {
      "needs_background": "light"
     },
     "output_type": "display_data"
    }
   ],
   "source": [
    "#2. Define a margin such that there is 10% whitespace inside the axes around the drawn line \n",
    "#(Hint: numbers to margins are normalised such that 0% is 0.0 and 100% is 1.0).\n",
    "ax = plt.axes()\n",
    "ax.margins(0.1)\n",
    "line1, = ax.plot([0, 1, 2, 1.5], [3, 1, 2, 4])\n",
    "plt.show()\n",
    "#plt.subplots_adjust(left=0.1, right=0.9, top=0.9, bottom=0.1)  Same but you can custom set each axis"
   ]
  },
  {
   "cell_type": "code",
   "execution_count": 23,
   "id": "2f7240d5",
   "metadata": {},
   "outputs": [
    {
     "data": {
      "image/png": "[encoded data removed]",
      "text/plain": [
       "<Figure size 432x288 with 1 Axes>"
      ]
     },
     "metadata": {
      "needs_background": "light"
     },
     "output_type": "display_data"
    }
   ],
   "source": [
    "#3. Set a 10% margin on the axes with the lower y limit set to 0. (Note: order is important here)\n",
    "ax = plt.axes()\n",
    "line1, = ax.plot([0, 1, 2, 1.5], [3, 1, 2, 4])\n",
    "ax.margins(0.1)\n",
    "ax.set_ylim(bottom=0)\n",
    "plt.show()"
   ]
  },
  {
   "cell_type": "markdown",
   "id": "94899072",
   "metadata": {},
   "source": [
    "#### Exercise 3: \n",
    "By calling plot multiple times, create a single axes showing the line plots of $y=sin(x)$ and $y=cos(x)$ in the interval $[0, 2\\pi]$ with 200 linearly spaced $x$ samples."
   ]
  },
  {
   "cell_type": "code",
   "execution_count": 20,
   "id": "174414ea",
   "metadata": {},
   "outputs": [
    {
     "data": {
      "image/png": "[encoded data removed]",
      "text/plain": [
       "<Figure size 432x288 with 1 Axes>"
      ]
     },
     "metadata": {
      "needs_background": "light"
     },
     "output_type": "display_data"
    }
   ],
   "source": [
    "import numpy as np\n",
    "\n",
    "x = np.linspace(0, 2 * np.pi, 200)  # 200 linearly spaced x samples from 0 to 2π\n",
    "y_sin = np.sin(x)\n",
    "y_cos = np.cos(x)\n",
    "\n",
    "plt.plot(x, y_sin, label='y = sin(x)')\n",
    "plt.plot(x, y_cos, label='y = cos(x)')\n",
    "plt.grid(True)\n",
    "plt.show()"
   ]
  },
  {
   "cell_type": "markdown",
   "id": "0effef74",
   "metadata": {},
   "source": [
    "#### Exercise 3 continued: \n",
    "Copy the answer from the previous task (plotting $y=sin(x)$ and $y=cos(x)$) and add the appropriate plt.subplot calls to create a figure with two rows of Axes artists, one showing $y=sin(x)$ and the other showing $y=cos(x)$."
   ]
  },
  {
   "cell_type": "code",
   "execution_count": 25,
   "id": "cc5771d2",
   "metadata": {},
   "outputs": [
    {
     "data": {
      "image/png": "[encoded data removed]",
      "text/plain": [
       "<Figure size 432x288 with 2 Axes>"
      ]
     },
     "metadata": {
      "needs_background": "light"
     },
     "output_type": "display_data"
    }
   ],
   "source": [
    "import matplotlib.pyplot as plt\n",
    "import numpy as np\n",
    "\n",
    "x = np.linspace(0, 2*np.pi, 200)\n",
    "\n",
    "plt.subplot(2, 1, 1)\n",
    "plt.plot(x, np.sin(x), color='red')\n",
    "\n",
    "plt.subplot(2, 1, 2)\n",
    "plt.plot(x, np.cos(x), color='blue')\n",
    "\n",
    "plt.show()"
   ]
  },
  {
   "cell_type": "markdown",
   "id": "6b950024",
   "metadata": {},
   "source": [
    "#### Legends"
   ]
  },
  {
   "cell_type": "code",
   "execution_count": 26,
   "id": "66440b44",
   "metadata": {},
   "outputs": [
    {
     "data": {
      "image/png": "[encoded data removed]",
      "text/plain": [
       "<Figure size 432x288 with 1 Axes>"
      ]
     },
     "metadata": {
      "needs_background": "light"
     },
     "output_type": "display_data"
    }
   ],
   "source": [
    "fig = plt.figure()\n",
    "ax = plt.axes()\n",
    "# Adjust the created axes so its topmost extent is 0.8 of the figure.\n",
    "fig.subplots_adjust(top=0.8)\n",
    "fig.suptitle('Figure title', fontsize=18, fontweight='bold')\n",
    "ax.set_title('Axes title', fontsize=16)\n",
    "ax.set_xlabel('The X axis')\n",
    "ax.set_ylabel('The Y axis $y=f(x^2)$', fontsize=16)\n",
    "ax.text(0.5, 0.5, 'Text centered at (0.5, 0.5)\\nin data coordinates.',\n",
    "        horizontalalignment='center', fontsize=14)\n",
    "plt.show()"
   ]
  },
  {
   "cell_type": "markdown",
   "id": "750e581b",
   "metadata": {},
   "source": [
    "## Pandas"
   ]
  },
  {
   "cell_type": "markdown",
   "id": "009849e5",
   "metadata": {},
   "source": [
    "#### Indexing\n",
    "We use iloc[] to select rows and columns by their position: <br>\n",
    "We use loc[] to select by name:"
   ]
  },
  {
   "cell_type": "code",
   "execution_count": null,
   "id": "a28e9718",
   "metadata": {},
   "outputs": [],
   "source": [
    "import pandas as pd\n",
    "meteorites.iloc[100:104, [0, 3, 4, 6]]\n",
    "meteorites.loc[100:104, 'mass (g)':'year']"
   ]
  },
  {
   "cell_type": "code",
   "execution_count": null,
   "id": "0a3066b0",
   "metadata": {},
   "outputs": [],
   "source": [
    "#Find count of each group \n",
    "meteorites.fall.value_counts()"
   ]
  },
  {
   "cell_type": "code",
   "execution_count": null,
   "id": "b76bd802",
   "metadata": {},
   "outputs": [],
   "source": [
    "#Get the quantiles of the data column\n",
    "meteorites['mass (g)'].quantile([0.01, 0.05, 0.5, 0.95, 0.99])"
   ]
  },
  {
   "cell_type": "code",
   "execution_count": null,
   "id": "51ae0063",
   "metadata": {},
   "outputs": [],
   "source": [
    "#Get the details of the max weight metor using idxmax ==> it gives the index of the max \n",
    "meteorites.loc[meteorites['mass (g)'].idxmax()]"
   ]
  },
  {
   "cell_type": "code",
   "execution_count": null,
   "id": "1e6579cb",
   "metadata": {},
   "outputs": [],
   "source": [
    "#different types of meteorite classes\n",
    "meteorites.recclass.nunique() #Gives number of unique\n",
    "meteorites.recclass.unique()[:14] #Gives the names of the uniques"
   ]
  },
  {
   "cell_type": "code",
   "execution_count": null,
   "id": "a7da23ea",
   "metadata": {},
   "outputs": [],
   "source": [
    "#Groupby a column\n",
    "meteorites.groupby('recclass')['mass (g)'].mean().head()\n",
    "#You group by recclass and then get the mean of each class's mass (g)\n",
    "#That is the avg mass of each class"
   ]
  },
  {
   "cell_type": "code",
   "execution_count": null,
   "id": "9520801f",
   "metadata": {},
   "outputs": [],
   "source": [
    "#Rename column\n",
    "taxis = taxis.rename(\n",
    "    columns={\n",
    "        'tpep_pickup_datetime': 'pickup',     #Old : New\n",
    "        'tpep_dropoff_datetime': 'dropoff'\n",
    "    }\n",
    ")\n",
    "taxis.columns"
   ]
  },
  {
   "cell_type": "code",
   "execution_count": null,
   "id": "3b8867fc",
   "metadata": {},
   "outputs": [],
   "source": [
    "#Creating new columns\n",
    "\n",
    "taxis = taxis.assign(\n",
    "    elapsed_time=lambda x: x.dropoff - x.pickup, # 1\n",
    "    cost_before_tip=lambda x: x.total_amount - x.tip_amount,\n",
    "    tip_pct=lambda x: x.tip_amount / x.cost_before_tip, # 2\n",
    "    fees=lambda x: x.cost_before_tip - x.fare_amount, # 3\n",
    "    avg_speed=lambda x: x.trip_distance.div(\n",
    "        x.elapsed_time.dt.total_seconds() / 60 / 60\n",
    "    ) # 4\n",
    ")"
   ]
  },
  {
   "cell_type": "code",
   "execution_count": null,
   "id": "78849cce",
   "metadata": {},
   "outputs": [],
   "source": [
    "#Sort cols. 1st will be passenger count and then pickup.\n",
    "\n",
    "taxis.sort_values(['passenger_count', 'pickup'], ascending=[False, True]).head()"
   ]
  },
  {
   "cell_type": "code",
   "execution_count": null,
   "id": "18887b05",
   "metadata": {},
   "outputs": [],
   "source": [
    "# Pick the 3 largest rows on elapsed_time\n",
    "\n",
    "taxis.nlargest(3, 'elapsed_time')"
   ]
  },
  {
   "cell_type": "code",
   "execution_count": null,
   "id": "ce0cd19f",
   "metadata": {},
   "outputs": [],
   "source": []
  }
 ],
 "metadata": {
  "kernelspec": {
   "display_name": "Python 3 (ipykernel)",
   "language": "python",
   "name": "python3"
  },
  "language_info": {
   "codemirror_mode": {
    "name": "ipython",
    "version": 3
   },
   "file_extension": ".py",
   "mimetype": "text/x-python",
   "name": "python",
   "nbconvert_exporter": "python",
   "pygments_lexer": "ipython3",
   "version": "3.9.5"
  }
 },
 "nbformat": 4,
 "nbformat_minor": 5
}
